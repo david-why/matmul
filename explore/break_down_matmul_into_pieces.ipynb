{
 "cells": [
  {
   "cell_type": "markdown",
   "id": "7e56a7d4",
   "metadata": {},
   "source": [
    "# 2025-04-14 14:00"
   ]
  },
  {
   "cell_type": "code",
   "execution_count": 1,
   "id": "a938212d",
   "metadata": {},
   "outputs": [],
   "source": [
    "import numpy as np"
   ]
  },
  {
   "cell_type": "code",
   "execution_count": 2,
   "id": "601e5efc",
   "metadata": {},
   "outputs": [],
   "source": [
    "element_dtype = np.uint8\n",
    "result_dtype = np.uint32"
   ]
  },
  {
   "cell_type": "code",
   "execution_count": 3,
   "id": "8b5e8b9d",
   "metadata": {},
   "outputs": [],
   "source": [
    "generator = np.random.default_rng(42)\n",
    "A = generator.integers(0, 16, (500, 100), dtype=np.uint8)\n",
    "B = generator.integers(0, 16, (100, 600), dtype=np.uint8)"
   ]
  },
  {
   "cell_type": "code",
   "execution_count": 4,
   "id": "cecb7b3c",
   "metadata": {},
   "outputs": [],
   "source": [
    "def numpy_matmul(a, b):\n",
    "    return np.matmul(a, b)"
   ]
  },
  {
   "cell_type": "code",
   "execution_count": 5,
   "id": "f4f9a31b",
   "metadata": {},
   "outputs": [],
   "source": [
    "C = numpy_matmul(A, B)"
   ]
  },
  {
   "cell_type": "code",
   "execution_count": 6,
   "id": "307e2af0",
   "metadata": {},
   "outputs": [],
   "source": [
    "def naive_matmul(a, b):\n",
    "    n = a.shape[0]\n",
    "    q = a.shape[1]\n",
    "    m = b.shape[1]\n",
    "    c = np.zeros((n, m), dtype=np.uint8)\n",
    "    for i in range(n):\n",
    "        for j in range(m):\n",
    "            for k in range(q):\n",
    "                c[i, j] += a[i, k] * b[k, j]\n",
    "    return c"
   ]
  },
  {
   "cell_type": "code",
   "execution_count": 7,
   "id": "c4d676e1",
   "metadata": {},
   "outputs": [
    {
     "name": "stderr",
     "output_type": "stream",
     "text": [
      "/var/folders/f1/j2z9_swx72543ggm95tbcfzc0000gn/T/ipykernel_1390/2699044813.py:9: RuntimeWarning: overflow encountered in scalar add\n",
      "  c[i, j] += a[i, k] * b[k, j]\n"
     ]
    }
   ],
   "source": [
    "c = naive_matmul(A, B)"
   ]
  },
  {
   "cell_type": "code",
   "execution_count": 8,
   "id": "3eb09cdd",
   "metadata": {},
   "outputs": [],
   "source": [
    "assert np.allclose(C, c)"
   ]
  },
  {
   "cell_type": "markdown",
   "id": "5dc47603",
   "metadata": {},
   "source": [
    "# 2025-04-17 20:45"
   ]
  },
  {
   "cell_type": "code",
   "execution_count": 9,
   "id": "675e4c8f",
   "metadata": {},
   "outputs": [],
   "source": [
    "def byrow_matmul(a, b):\n",
    "    n = a.shape[0]\n",
    "    q = a.shape[1]\n",
    "    m = b.shape[1]\n",
    "    c = np.zeros((n, m), dtype=np.uint8)\n",
    "    for i in range(n):\n",
    "        for j in range(q):\n",
    "            # new cell passed in: A[i, j]\n",
    "            for k in range(m):\n",
    "                c[i, k] += a[i, j] * b[j, k]\n",
    "    return c"
   ]
  },
  {
   "cell_type": "code",
   "execution_count": 10,
   "id": "0e0d1804",
   "metadata": {},
   "outputs": [
    {
     "name": "stderr",
     "output_type": "stream",
     "text": [
      "/var/folders/f1/j2z9_swx72543ggm95tbcfzc0000gn/T/ipykernel_1390/4269207039.py:10: RuntimeWarning: overflow encountered in scalar add\n",
      "  c[i, k] += a[i, j] * b[j, k]\n"
     ]
    }
   ],
   "source": [
    "c = byrow_matmul(A, B)"
   ]
  },
  {
   "cell_type": "code",
   "execution_count": 11,
   "id": "dec398bd",
   "metadata": {},
   "outputs": [],
   "source": [
    "assert np.allclose(C, c)"
   ]
  },
  {
   "cell_type": "code",
   "execution_count": 12,
   "id": "748a039c",
   "metadata": {},
   "outputs": [],
   "source": [
    "def small_mul(a_row, b_chunk):\n",
    "    # a is a row of A, cut to the portion of b\n",
    "    # b is a chunk of B\n",
    "    c = np.zeros(b_chunk.shape[1], dtype=np.uint8)\n",
    "    for i in range(a_row.shape[0]):\n",
    "        for j in range(b_chunk.shape[1]):\n",
    "            c[j] += a_row[i] * b_chunk[i, j]\n",
    "        # c += a_row[i] * b_chunk[i, :]\n",
    "    return c\n",
    "\n",
    "def split_matmul(a, b, x=16, y=16):\n",
    "    # split matmul into small chunks of B and rows of A\n",
    "    n = a.shape[0]\n",
    "    q = a.shape[1]\n",
    "    m = b.shape[1]\n",
    "    nchunks_x = (q + x - 1) // x\n",
    "    nchunks_y = (m + y - 1) // y\n",
    "    c = np.zeros((n, m), dtype=np.uint8)\n",
    "    for chunk_y in range(nchunks_y):\n",
    "        for chunk_x in range(nchunks_x):\n",
    "            # chunk of B\n",
    "            b_chunk = b[\n",
    "                chunk_x * x : (chunk_x + 1) * x, chunk_y * y : (chunk_y + 1) * y\n",
    "            ]\n",
    "            for i in range(n):\n",
    "                # row of A\n",
    "                a_row = a[i, chunk_x * x : (chunk_x + 1) * x]\n",
    "                c_row = small_mul(a_row, b_chunk)\n",
    "                for j in range(chunk_y * y, min((chunk_y + 1) * y, m)):\n",
    "                    c[i, j] += c_row[j - chunk_y * y]\n",
    "                # c[i, chunk_y * y : (chunk_y + 1) * y] += c_row\n",
    "    return c"
   ]
  },
  {
   "cell_type": "code",
   "execution_count": 13,
   "id": "63a5c0a5",
   "metadata": {},
   "outputs": [
    {
     "name": "stderr",
     "output_type": "stream",
     "text": [
      "/var/folders/f1/j2z9_swx72543ggm95tbcfzc0000gn/T/ipykernel_1390/2245387704.py:7: RuntimeWarning: overflow encountered in scalar add\n",
      "  c[j] += a_row[i] * b_chunk[i, j]\n",
      "/var/folders/f1/j2z9_swx72543ggm95tbcfzc0000gn/T/ipykernel_1390/2245387704.py:30: RuntimeWarning: overflow encountered in scalar add\n",
      "  c[i, j] += c_row[j - chunk_y * y]\n"
     ]
    }
   ],
   "source": [
    "c = split_matmul(A, B)"
   ]
  },
  {
   "cell_type": "code",
   "execution_count": 14,
   "id": "5d6aa044",
   "metadata": {},
   "outputs": [],
   "source": [
    "assert np.allclose(C, c)"
   ]
  },
  {
   "cell_type": "code",
   "execution_count": 15,
   "id": "ee524586",
   "metadata": {},
   "outputs": [
    {
     "name": "stderr",
     "output_type": "stream",
     "text": [
      "/var/folders/f1/j2z9_swx72543ggm95tbcfzc0000gn/T/ipykernel_1390/2245387704.py:7: RuntimeWarning: overflow encountered in scalar add\n",
      "  c[j] += a_row[i] * b_chunk[i, j]\n",
      "/var/folders/f1/j2z9_swx72543ggm95tbcfzc0000gn/T/ipykernel_1390/2245387704.py:30: RuntimeWarning: overflow encountered in scalar add\n",
      "  c[i, j] += c_row[j - chunk_y * y]\n"
     ]
    }
   ],
   "source": [
    "c = split_matmul(A, B, x=8, y=16)\n",
    "assert np.allclose(C, c)"
   ]
  },
  {
   "cell_type": "code",
   "execution_count": 16,
   "id": "42fd4c5d",
   "metadata": {},
   "outputs": [
    {
     "name": "stderr",
     "output_type": "stream",
     "text": [
      "/var/folders/f1/j2z9_swx72543ggm95tbcfzc0000gn/T/ipykernel_1390/2245387704.py:7: RuntimeWarning: overflow encountered in scalar add\n",
      "  c[j] += a_row[i] * b_chunk[i, j]\n",
      "/var/folders/f1/j2z9_swx72543ggm95tbcfzc0000gn/T/ipykernel_1390/2245387704.py:30: RuntimeWarning: overflow encountered in scalar add\n",
      "  c[i, j] += c_row[j - chunk_y * y]\n"
     ]
    }
   ],
   "source": [
    "c = split_matmul(A, B, x=8, y=8)\n",
    "assert np.allclose(C, c)"
   ]
  },
  {
   "cell_type": "code",
   "execution_count": 17,
   "id": "e75e73c8",
   "metadata": {},
   "outputs": [
    {
     "name": "stderr",
     "output_type": "stream",
     "text": [
      "/var/folders/f1/j2z9_swx72543ggm95tbcfzc0000gn/T/ipykernel_1390/2245387704.py:7: RuntimeWarning: overflow encountered in scalar add\n",
      "  c[j] += a_row[i] * b_chunk[i, j]\n",
      "/var/folders/f1/j2z9_swx72543ggm95tbcfzc0000gn/T/ipykernel_1390/2245387704.py:30: RuntimeWarning: overflow encountered in scalar add\n",
      "  c[i, j] += c_row[j - chunk_y * y]\n"
     ]
    }
   ],
   "source": [
    "c = split_matmul(A, B, x=32, y=32)\n",
    "assert np.allclose(C, c)"
   ]
  },
  {
   "cell_type": "code",
   "execution_count": 18,
   "id": "a4ad2671",
   "metadata": {},
   "outputs": [
    {
     "name": "stderr",
     "output_type": "stream",
     "text": [
      "/var/folders/f1/j2z9_swx72543ggm95tbcfzc0000gn/T/ipykernel_1390/2245387704.py:7: RuntimeWarning: overflow encountered in scalar add\n",
      "  c[j] += a_row[i] * b_chunk[i, j]\n",
      "/var/folders/f1/j2z9_swx72543ggm95tbcfzc0000gn/T/ipykernel_1390/2245387704.py:30: RuntimeWarning: overflow encountered in scalar add\n",
      "  c[i, j] += c_row[j - chunk_y * y]\n"
     ]
    }
   ],
   "source": [
    "c = split_matmul(A, B, x=64, y=64)\n",
    "assert np.allclose(C, c)"
   ]
  },
  {
   "cell_type": "code",
   "execution_count": 19,
   "id": "d64de70e",
   "metadata": {},
   "outputs": [
    {
     "name": "stderr",
     "output_type": "stream",
     "text": [
      "/var/folders/f1/j2z9_swx72543ggm95tbcfzc0000gn/T/ipykernel_1390/2245387704.py:7: RuntimeWarning: overflow encountered in scalar add\n",
      "  c[j] += a_row[i] * b_chunk[i, j]\n"
     ]
    }
   ],
   "source": [
    "c = split_matmul(A, B, x=128, y=128)\n",
    "assert np.allclose(C, c)"
   ]
  }
 ],
 "metadata": {
  "kernelspec": {
   "display_name": ".venv",
   "language": "python",
   "name": "python3"
  },
  "language_info": {
   "codemirror_mode": {
    "name": "ipython",
    "version": 3
   },
   "file_extension": ".py",
   "mimetype": "text/x-python",
   "name": "python",
   "nbconvert_exporter": "python",
   "pygments_lexer": "ipython3",
   "version": "3.12.7"
  }
 },
 "nbformat": 4,
 "nbformat_minor": 5
}
